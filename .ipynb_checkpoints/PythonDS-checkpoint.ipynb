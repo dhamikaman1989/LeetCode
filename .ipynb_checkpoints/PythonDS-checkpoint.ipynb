{
 "cells": [
  {
   "cell_type": "markdown",
   "id": "4ecd3de7",
   "metadata": {},
   "source": [
    "-- Question"
   ]
  },
  {
   "cell_type": "code",
   "execution_count": 18,
   "id": "00a87070",
   "metadata": {},
   "outputs": [],
   "source": [
    "def func(Arr, k):\n",
    "    \n",
    "    out1 = []\n",
    "    for i in range(len(Arr)-k+1):\n",
    "#         print(\"i:\", i)\n",
    "#         print(\"i+k\",i+k)\n",
    "        out1.append(Arr[0:i]+Arr[i+k:])\n",
    "    print(out1)    "
   ]
  },
  {
   "cell_type": "code",
   "execution_count": null,
   "id": "d2cf67e9",
   "metadata": {},
   "outputs": [],
   "source": []
  },
  {
   "cell_type": "code",
   "execution_count": 19,
   "id": "0c18600f",
   "metadata": {},
   "outputs": [
    {
     "name": "stdout",
     "output_type": "stream",
     "text": [
      "[[8, 10], [2, 10], [2, 4]]\n"
     ]
    }
   ],
   "source": [
    "Arr = [2,4,6,8,10]\n",
    "k = 3\n",
    "func(Arr,k)\n"
   ]
  },
  {
   "cell_type": "code",
   "execution_count": null,
   "id": "134ddb69",
   "metadata": {},
   "outputs": [],
   "source": []
  }
 ],
 "metadata": {
  "kernelspec": {
   "display_name": "Python 3",
   "language": "python",
   "name": "python3"
  },
  "language_info": {
   "codemirror_mode": {
    "name": "ipython",
    "version": 3
   },
   "file_extension": ".py",
   "mimetype": "text/x-python",
   "name": "python",
   "nbconvert_exporter": "python",
   "pygments_lexer": "ipython3",
   "version": "3.8.8"
  }
 },
 "nbformat": 4,
 "nbformat_minor": 5
}
